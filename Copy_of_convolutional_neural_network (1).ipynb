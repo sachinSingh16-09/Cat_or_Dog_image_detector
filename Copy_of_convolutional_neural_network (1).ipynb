{
 "cells": [
  {
   "cell_type": "markdown",
   "metadata": {
    "id": "3DR-eO17geWu"
   },
   "source": [
    "# Convolutional Neural Network"
   ]
  },
  {
   "cell_type": "code",
   "execution_count": 1,
   "metadata": {
    "id": "R0mozGbmoVeI"
   },
   "outputs": [],
   "source": [
    "import tensorflow as tf\n",
    "from keras.preprocessing.image import ImageDataGenerator"
   ]
  },
  {
   "cell_type": "code",
   "execution_count": 2,
   "metadata": {
    "id": "kYlrlD1yqrIk"
   },
   "outputs": [
    {
     "name": "stdout",
     "output_type": "stream",
     "text": [
      "Found 8000 images belonging to 2 classes.\n"
     ]
    }
   ],
   "source": [
    "train_datagen = ImageDataGenerator(\n",
    "        rescale=1./255,\n",
    "        shear_range=0.2,\n",
    "        zoom_range=0.2,\n",
    "        horizontal_flip=True)\n",
    "training_set = train_datagen.flow_from_directory(\n",
    "        'dataset/training_set',\n",
    "        target_size=(64, 64),\n",
    "        batch_size=32,\n",
    "        class_mode='binary')"
   ]
  },
  {
   "cell_type": "code",
   "execution_count": 3,
   "metadata": {
    "id": "OPJjgwaYrCIM"
   },
   "outputs": [
    {
     "name": "stdout",
     "output_type": "stream",
     "text": [
      "Found 2000 images belonging to 2 classes.\n"
     ]
    }
   ],
   "source": [
    "test_datagen = ImageDataGenerator(rescale=1./255)\n",
    "test_set = test_datagen.flow_from_directory(\n",
    "        'dataset/test_set',\n",
    "        target_size=(64, 64),\n",
    "        batch_size=32,\n",
    "        class_mode='binary')"
   ]
  },
  {
   "cell_type": "code",
   "execution_count": 4,
   "metadata": {
    "id": "v_JMpDnPsvkm"
   },
   "outputs": [],
   "source": [
    "cnn= tf.keras.models.Sequential()"
   ]
  },
  {
   "cell_type": "code",
   "execution_count": 5,
   "metadata": {
    "id": "eOSsu7TatGVd"
   },
   "outputs": [],
   "source": [
    "cnn.add(tf.keras.layers.Conv2D(filters=32, kernel_size=3, activation='relu', input_shape=(64,64,3)))"
   ]
  },
  {
   "cell_type": "code",
   "execution_count": 6,
   "metadata": {
    "id": "sUsgA7zxv9bw"
   },
   "outputs": [],
   "source": [
    "cnn.add(tf.keras.layers.MaxPool2D(pool_size= 2, strides=2,))"
   ]
  },
  {
   "cell_type": "code",
   "execution_count": 7,
   "metadata": {
    "id": "4ZguBAoIw04r"
   },
   "outputs": [],
   "source": [
    "cnn.add(tf.keras.layers.Conv2D(filters=32, kernel_size=3, activation='relu',))\n",
    "cnn.add(tf.keras.layers.MaxPool2D(pool_size= 2, strides=2,))"
   ]
  },
  {
   "cell_type": "code",
   "execution_count": 8,
   "metadata": {
    "id": "DvqIznDsxs1I"
   },
   "outputs": [],
   "source": [
    "cnn.add(tf.keras.layers.Flatten())"
   ]
  },
  {
   "cell_type": "code",
   "execution_count": 9,
   "metadata": {
    "id": "euJy78WDyGqX"
   },
   "outputs": [],
   "source": [
    "cnn.add(tf.keras.layers.Dense(units=128 , activation='relu', ))"
   ]
  },
  {
   "cell_type": "code",
   "execution_count": 10,
   "metadata": {
    "id": "k2tv6KeJyilm"
   },
   "outputs": [],
   "source": [
    "cnn.add(tf.keras.layers.Dense(units=1, activation='sigmoid'))"
   ]
  },
  {
   "cell_type": "code",
   "execution_count": 13,
   "metadata": {
    "id": "9ZUuGGVG1GY0"
   },
   "outputs": [
    {
     "name": "stdout",
     "output_type": "stream",
     "text": [
      "Epoch 1/25\n",
      "250/250 [==============================] - 41s 164ms/step - loss: 0.2671 - accuracy: 0.8884 - val_loss: 0.4859 - val_accuracy: 0.8060\n",
      "Epoch 2/25\n",
      "250/250 [==============================] - 41s 164ms/step - loss: 0.2551 - accuracy: 0.8949 - val_loss: 0.5967 - val_accuracy: 0.7715\n",
      "Epoch 3/25\n",
      "250/250 [==============================] - 40s 162ms/step - loss: 0.2479 - accuracy: 0.8975 - val_loss: 0.5156 - val_accuracy: 0.8050\n",
      "Epoch 4/25\n",
      "250/250 [==============================] - 42s 168ms/step - loss: 0.2398 - accuracy: 0.8999 - val_loss: 0.4990 - val_accuracy: 0.8070\n",
      "Epoch 5/25\n",
      "250/250 [==============================] - 41s 165ms/step - loss: 0.2326 - accuracy: 0.9066 - val_loss: 0.5126 - val_accuracy: 0.8055\n",
      "Epoch 6/25\n",
      "250/250 [==============================] - 43s 171ms/step - loss: 0.2351 - accuracy: 0.9043 - val_loss: 0.6174 - val_accuracy: 0.7940\n",
      "Epoch 7/25\n",
      "250/250 [==============================] - 42s 167ms/step - loss: 0.2255 - accuracy: 0.9070 - val_loss: 0.5690 - val_accuracy: 0.7925\n",
      "Epoch 8/25\n",
      "250/250 [==============================] - 41s 163ms/step - loss: 0.2050 - accuracy: 0.9185 - val_loss: 0.5595 - val_accuracy: 0.8145\n",
      "Epoch 9/25\n",
      "250/250 [==============================] - 41s 164ms/step - loss: 0.2107 - accuracy: 0.9141 - val_loss: 0.5746 - val_accuracy: 0.7985\n",
      "Epoch 10/25\n",
      "250/250 [==============================] - 41s 164ms/step - loss: 0.1999 - accuracy: 0.9181 - val_loss: 0.6097 - val_accuracy: 0.7985\n",
      "Epoch 11/25\n",
      "250/250 [==============================] - 42s 167ms/step - loss: 0.1905 - accuracy: 0.9229 - val_loss: 0.6183 - val_accuracy: 0.7910\n",
      "Epoch 12/25\n",
      "250/250 [==============================] - 45s 179ms/step - loss: 0.1926 - accuracy: 0.9214 - val_loss: 0.5993 - val_accuracy: 0.8040\n",
      "Epoch 13/25\n",
      "250/250 [==============================] - 45s 180ms/step - loss: 0.1853 - accuracy: 0.9245 - val_loss: 0.6053 - val_accuracy: 0.8005\n",
      "Epoch 14/25\n",
      "250/250 [==============================] - 44s 176ms/step - loss: 0.1678 - accuracy: 0.9320 - val_loss: 0.6877 - val_accuracy: 0.7860\n",
      "Epoch 15/25\n",
      "250/250 [==============================] - 46s 184ms/step - loss: 0.1705 - accuracy: 0.9327 - val_loss: 0.6792 - val_accuracy: 0.7875\n",
      "Epoch 16/25\n",
      "250/250 [==============================] - 44s 177ms/step - loss: 0.1655 - accuracy: 0.9360 - val_loss: 0.6654 - val_accuracy: 0.7940\n",
      "Epoch 17/25\n",
      "250/250 [==============================] - 45s 180ms/step - loss: 0.1550 - accuracy: 0.9366 - val_loss: 0.6581 - val_accuracy: 0.7905\n",
      "Epoch 18/25\n",
      "250/250 [==============================] - 45s 179ms/step - loss: 0.1580 - accuracy: 0.9404 - val_loss: 0.6719 - val_accuracy: 0.8065\n",
      "Epoch 19/25\n",
      "250/250 [==============================] - 50s 199ms/step - loss: 0.1477 - accuracy: 0.9406 - val_loss: 0.6374 - val_accuracy: 0.8075\n",
      "Epoch 20/25\n",
      "250/250 [==============================] - 46s 185ms/step - loss: 0.1465 - accuracy: 0.9433 - val_loss: 0.6795 - val_accuracy: 0.8010\n",
      "Epoch 21/25\n",
      "250/250 [==============================] - 45s 179ms/step - loss: 0.1468 - accuracy: 0.9419 - val_loss: 0.6945 - val_accuracy: 0.8090\n",
      "Epoch 22/25\n",
      "250/250 [==============================] - 45s 180ms/step - loss: 0.1365 - accuracy: 0.9433 - val_loss: 0.6965 - val_accuracy: 0.8065\n",
      "Epoch 23/25\n",
      "250/250 [==============================] - 44s 176ms/step - loss: 0.1293 - accuracy: 0.9500 - val_loss: 0.7187 - val_accuracy: 0.8045\n",
      "Epoch 24/25\n",
      "250/250 [==============================] - 43s 170ms/step - loss: 0.1422 - accuracy: 0.9463 - val_loss: 0.7439 - val_accuracy: 0.8035\n",
      "Epoch 25/25\n",
      "250/250 [==============================] - 44s 175ms/step - loss: 0.1209 - accuracy: 0.9524 - val_loss: 0.7265 - val_accuracy: 0.8055\n"
     ]
    },
    {
     "data": {
      "text/plain": [
       "<keras.callbacks.History at 0x1926c6a4c40>"
      ]
     },
     "execution_count": 13,
     "metadata": {},
     "output_type": "execute_result"
    }
   ],
   "source": [
    "cnn.fit(x= training_set, validation_data= test_set, epochs=25)"
   ]
  },
  {
   "cell_type": "markdown",
   "metadata": {
    "id": "U3PZasO0006Z"
   },
   "source": [
    "Making a single prediction"
   ]
  },
  {
   "cell_type": "code",
   "execution_count": 36,
   "metadata": {
    "id": "8y6N1YnxOmuD"
   },
   "outputs": [
    {
     "name": "stdout",
     "output_type": "stream",
     "text": [
      "1/1 [==============================] - 0s 21ms/step\n"
     ]
    }
   ],
   "source": [
    "import numpy as np\n",
    "from keras import utils\n",
    "test_image= tf.keras.utils.load_img('dataset/single_prediction/cat_or_dog_.jpg', target_size = (64,64))\n",
    "test_image= tf.keras.utils.img_to_array(test_image)\n",
    "test_image= np.expand_dims(test_image, axis=0)\n",
    "result= cnn.predict(test_image/255.0)\n",
    "training_set.class_indices\n",
    "if result[0][0] > 0.5:\n",
    "  prediction = 'dog'\n",
    "else:\n",
    "  prediction = 'cat'\n",
    "  \n"
   ]
  },
  {
   "cell_type": "code",
   "execution_count": 37,
   "metadata": {},
   "outputs": [
    {
     "name": "stdout",
     "output_type": "stream",
     "text": [
      "cat\n"
     ]
    }
   ],
   "source": [
    "print(prediction)"
   ]
  },
  {
   "cell_type": "code",
   "execution_count": null,
   "metadata": {},
   "outputs": [],
   "source": []
  }
 ],
 "metadata": {
  "colab": {
   "provenance": [],
   "toc_visible": true
  },
  "kernelspec": {
   "display_name": "Python 3 (ipykernel)",
   "language": "python",
   "name": "python3"
  },
  "language_info": {
   "codemirror_mode": {
    "name": "ipython",
    "version": 3
   },
   "file_extension": ".py",
   "mimetype": "text/x-python",
   "name": "python",
   "nbconvert_exporter": "python",
   "pygments_lexer": "ipython3",
   "version": "3.10.9"
  }
 },
 "nbformat": 4,
 "nbformat_minor": 1
}
